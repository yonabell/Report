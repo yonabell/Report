{
  "cells": [
    {
      "cell_type": "markdown",
      "metadata": {
        "id": "view-in-github",
        "colab_type": "text"
      },
      "source": [
        "<a href=\"https://colab.research.google.com/github/yonabell/Report/blob/main/Reporting_code_with_function.ipynb\" target=\"_parent\"><img src=\"https://colab.research.google.com/assets/colab-badge.svg\" alt=\"Open In Colab\"/></a>"
      ]
    },
    {
      "cell_type": "code",
      "execution_count": null,
      "metadata": {
        "id": "zwFnJsE6vjf8"
      },
      "outputs": [],
      "source": []
    },
    {
      "cell_type": "code",
      "source": [
        "import pandas as pd\n",
        "import os"
      ],
      "metadata": {
        "id": "8R1fcuUjxILP"
      },
      "execution_count": null,
      "outputs": []
    },
    {
      "cell_type": "code",
      "source": [
        "from google.colab import files\n",
        "uploaded = files.upload()"
      ],
      "metadata": {
        "id": "VrzYh1MDxLPn"
      },
      "execution_count": null,
      "outputs": []
    },
    {
      "cell_type": "code",
      "source": [
        "def clean_data(file_path):\n",
        "    # Load the data with no predefined header\n",
        "    cpt_df = pd.read_excel(file_path, engine='openpyxl', header=4)\n",
        "\n",
        "    # Filtering rows and extracting only 'A' followed by nine digits\n",
        "    filtered_cpt_df = cpt_df[cpt_df['Unnamed: 0'].str.extract(r'(A\\d{9})', expand=False).notna()].copy()\n",
        "\n",
        "    # Extracting the ID\n",
        "    filtered_cpt_df['ID'] = filtered_cpt_df['Unnamed: 0'].str.extract(r'(A\\d{9})', expand=False)\n",
        "\n",
        "    # Reorder columns to place 'ID' next to 'Unnamed: 0'\n",
        "    cols = filtered_cpt_df.columns.tolist()\n",
        "    id_index = cols.index('ID')\n",
        "    cols = cols[:1] + [cols[id_index]] + cols[1:id_index] + cols[id_index + 1:]\n",
        "    filtered_cpt_df = filtered_cpt_df[cols]\n",
        "\n",
        "    # Drop 'Unnamed: 0' column\n",
        "    filtered_cpt_df = filtered_cpt_df.drop('Unnamed: 0', axis=1)\n",
        "\n",
        "    # Drop specific columns (1 to 7)\n",
        "    filtered_cpt_df = filtered_cpt_df.drop(filtered_cpt_df.columns[1:8], axis=1)\n",
        "\n",
        "    # Select every 7th column starting from the 8th column (index 7)\n",
        "    column_names = filtered_cpt_df.columns.tolist()\n",
        "    columns_to_drop = column_names[7::7]\n",
        "\n",
        "    # Drop the selected columns from the DataFrame\n",
        "    filtered_cpt_df.drop(columns=columns_to_drop, inplace=True)\n",
        "\n",
        "    return filtered_cpt_df"
      ],
      "metadata": {
        "id": "kcVm49man2pl"
      },
      "execution_count": null,
      "outputs": []
    },
    {
      "cell_type": "code",
      "source": [
        "# Call the clean_data function\n",
        "filtered_cpt_df = clean_data(file_path)"
      ],
      "metadata": {
        "id": "iqy7t53MygMm"
      },
      "execution_count": null,
      "outputs": []
    },
    {
      "cell_type": "code",
      "source": [
        "# Display the filtered_cpt_df\n",
        "filtered_cpt_df"
      ],
      "metadata": {
        "id": "AO_JP0XZynij"
      },
      "execution_count": null,
      "outputs": []
    },
    {
      "cell_type": "code",
      "source": [
        "def aggregate_data(filtered_df):\n",
        "    # Columns to be aggregated (excluding 'ID')\n",
        "    agg_cols = ['Purch. Volume', 'S-Revenues', 'Profit Margin I',\n",
        "                'PM I % of Purchased Volume', 'Profit Margin I*',\n",
        "                'PM I* % of Purchased Volume']\n",
        "\n",
        "    # Get all columns that start with the names in agg_cols\n",
        "    cols_to_convert = [col for col in filtered_df.columns if any(col.startswith(agg_col) for agg_col in agg_cols)]\n",
        "\n",
        "    # Convert the selected columns to numeric\n",
        "    filtered_df[cols_to_convert] = filtered_df[cols_to_convert].apply(pd.to_numeric, errors='coerce')\n",
        "\n",
        "    # Create a new DataFrame to store the aggregated results\n",
        "    aggregated_df = pd.DataFrame(columns=['ID'] + agg_cols)\n",
        "\n",
        "    # Group the DataFrame by 'ID' and aggregate\n",
        "    for id_val, group in filtered_df.groupby('ID'):\n",
        "        new_row = {'ID': id_val}\n",
        "        for agg_col in agg_cols:\n",
        "            new_row[agg_col] = group[[col for col in group.columns if col.startswith(agg_col)]].sum(axis=1).sum()  # Sum across rows and then sum the results\n",
        "        aggregated_df = pd.concat([aggregated_df, pd.DataFrame([new_row])], ignore_index=True)\n",
        "\n",
        "    return aggregated_df\n"
      ],
      "metadata": {
        "id": "A1VnC-XlytQr"
      },
      "execution_count": null,
      "outputs": []
    },
    {
      "cell_type": "code",
      "source": [
        "# Call the clean_data function\n",
        "aggregated_df = aggregate_data(filtered_cpt_df)"
      ],
      "metadata": {
        "id": "yzX1EEVMy1kL"
      },
      "execution_count": null,
      "outputs": []
    },
    {
      "cell_type": "code",
      "source": [
        "# Display the aggregated_df\n",
        "aggregated_df"
      ],
      "metadata": {
        "id": "Kmm2j4l4zE6i"
      },
      "execution_count": null,
      "outputs": []
    },
    {
      "cell_type": "code",
      "source": [
        "def rename_columns(aggregated_df):\n",
        "    # Define the new column names\n",
        "    new_column_names = {\n",
        "        'ID': 'BPID',\n",
        "        'Purch. Volume': 'PurchVolume',\n",
        "        'S-Revenues': 'Revenue',\n",
        "        'Profit Margin I': 'PMI',\n",
        "        'PM I % of Purchased Volume': 'PMIRate',\n",
        "        'Profit Margin I*': 'PMIStar',\n",
        "        'PM I* % of Purchased Volume': 'PMIStarRate'\n",
        "    }\n",
        "\n",
        "    # Rename the columns\n",
        "    aggregated_df = aggregated_df.rename(columns=new_column_names)\n",
        "\n",
        "    # Return the modified DataFrame\n",
        "    return aggregated_df"
      ],
      "metadata": {
        "id": "6G-9C6KH0x06"
      },
      "execution_count": null,
      "outputs": []
    },
    {
      "cell_type": "code",
      "source": [
        "# call the rename function\n",
        "aggregated_df = rename_columns(aggregated_df)"
      ],
      "metadata": {
        "id": "MwKCgza902R3"
      },
      "execution_count": null,
      "outputs": []
    },
    {
      "cell_type": "code",
      "source": [
        "# Display the aggregated_df\n",
        "aggregated_df"
      ],
      "metadata": {
        "id": "Yf4S98Ey1BNi"
      },
      "execution_count": null,
      "outputs": []
    },
    {
      "cell_type": "code",
      "source": [
        "from google.colab import files\n",
        "uploaded = files.upload()"
      ],
      "metadata": {
        "id": "YZiqZQJd1c3r"
      },
      "execution_count": null,
      "outputs": []
    },
    {
      "cell_type": "code",
      "source": [
        "# Call the clean_data function\n",
        "filtered_cpt_df = clean_data(file_path)"
      ],
      "metadata": {
        "id": "AYbFTGqK1kQG"
      },
      "execution_count": null,
      "outputs": []
    },
    {
      "cell_type": "code",
      "source": [
        "# Create a dictionary to store the month-wise column mappings\n",
        "month_columns = {}\n",
        "months = ['January', 'February', 'March', 'April', 'May', 'June', 'July', 'August', 'September', 'October', 'November', 'December']\n",
        "\n",
        "for i, month in enumerate(months):\n",
        "  start_col_index = 1 + (i * 6)  # Starting column index for the month\n",
        "  end_col_index = start_col_index + 6\n",
        "  month_columns[month] = filtered_cpt_df.columns[start_col_index:end_col_index].tolist()"
      ],
      "metadata": {
        "id": "Baj0mdoy12j6"
      },
      "execution_count": null,
      "outputs": []
    },
    {
      "cell_type": "code",
      "source": [
        "# Define the months you want to filter for (dynamically)\n",
        "filtered_months = ['February', 'March']  # Example: Change this list as needed\n",
        "\n",
        "# Create a list to store the selected columns\n",
        "selected_columns = ['ID']\n",
        "\n",
        "# Loop through the filtered months and add corresponding columns to the list\n",
        "for month in filtered_months:\n",
        "  if month in month_columns:\n",
        "    selected_columns.extend(month_columns[month])\n",
        "\n",
        "# Filter the DataFrame with selected columns\n",
        "filtered_df = filtered_cpt_df[selected_columns]\n",
        "\n",
        "# Display the filtered DataFrame\n",
        "filtered_df"
      ],
      "metadata": {
        "id": "XIlb4ydm2DRX"
      },
      "execution_count": null,
      "outputs": []
    },
    {
      "cell_type": "code",
      "source": [
        "# Call the clean_data function\n",
        "aggregated_df = aggregate_data(filtered_cpt_df)"
      ],
      "metadata": {
        "id": "pNbf-w0M2TMX"
      },
      "execution_count": null,
      "outputs": []
    },
    {
      "cell_type": "code",
      "source": [
        "# call the rename function\n",
        "aggregated_df = rename_columns(aggregated_df)"
      ],
      "metadata": {
        "id": "a6eDDcdB2ZmX"
      },
      "execution_count": null,
      "outputs": []
    }
  ],
  "metadata": {
    "colab": {
      "name": "Welcome to Colaboratory",
      "toc_visible": true,
      "provenance": [],
      "include_colab_link": true
    },
    "kernelspec": {
      "display_name": "Python 3",
      "name": "python3"
    }
  },
  "nbformat": 4,
  "nbformat_minor": 0
}