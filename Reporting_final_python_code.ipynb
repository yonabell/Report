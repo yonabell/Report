{
  "cells": [
    {
      "cell_type": "markdown",
      "metadata": {
        "id": "view-in-github",
        "colab_type": "text"
      },
      "source": [
        "<a href=\"https://colab.research.google.com/github/yonabell/Report/blob/main/Reporting_final_python_code.ipynb\" target=\"_parent\"><img src=\"https://colab.research.google.com/assets/colab-badge.svg\" alt=\"Open In Colab\"/></a>"
      ]
    },
    {
      "cell_type": "code",
      "source": [
        "import pandas as pd\n",
        "import os\n",
        "import re"
      ],
      "metadata": {
        "id": "8R1fcuUjxILP"
      },
      "execution_count": 1,
      "outputs": []
    },
    {
      "cell_type": "code",
      "source": [
        "from google.colab import files\n",
        "uploaded = files.upload()"
      ],
      "metadata": {
        "id": "VrzYh1MDxLPn",
        "colab": {
          "base_uri": "https://localhost:8080/",
          "height": 90
        },
        "outputId": "9ae73ce9-1854-4fc7-9822-7c17ada01bea"
      },
      "execution_count": 2,
      "outputs": [
        {
          "output_type": "display_data",
          "data": {
            "text/plain": [
              "<IPython.core.display.HTML object>"
            ],
            "text/html": [
              "\n",
              "     <input type=\"file\" id=\"files-5a02ab8a-25d5-45fc-baef-6664757ad2ec\" name=\"files[]\" multiple disabled\n",
              "        style=\"border:none\" />\n",
              "     <output id=\"result-5a02ab8a-25d5-45fc-baef-6664757ad2ec\">\n",
              "      Upload widget is only available when the cell has been executed in the\n",
              "      current browser session. Please rerun this cell to enable.\n",
              "      </output>\n",
              "      <script>// Copyright 2017 Google LLC\n",
              "//\n",
              "// Licensed under the Apache License, Version 2.0 (the \"License\");\n",
              "// you may not use this file except in compliance with the License.\n",
              "// You may obtain a copy of the License at\n",
              "//\n",
              "//      http://www.apache.org/licenses/LICENSE-2.0\n",
              "//\n",
              "// Unless required by applicable law or agreed to in writing, software\n",
              "// distributed under the License is distributed on an \"AS IS\" BASIS,\n",
              "// WITHOUT WARRANTIES OR CONDITIONS OF ANY KIND, either express or implied.\n",
              "// See the License for the specific language governing permissions and\n",
              "// limitations under the License.\n",
              "\n",
              "/**\n",
              " * @fileoverview Helpers for google.colab Python module.\n",
              " */\n",
              "(function(scope) {\n",
              "function span(text, styleAttributes = {}) {\n",
              "  const element = document.createElement('span');\n",
              "  element.textContent = text;\n",
              "  for (const key of Object.keys(styleAttributes)) {\n",
              "    element.style[key] = styleAttributes[key];\n",
              "  }\n",
              "  return element;\n",
              "}\n",
              "\n",
              "// Max number of bytes which will be uploaded at a time.\n",
              "const MAX_PAYLOAD_SIZE = 100 * 1024;\n",
              "\n",
              "function _uploadFiles(inputId, outputId) {\n",
              "  const steps = uploadFilesStep(inputId, outputId);\n",
              "  const outputElement = document.getElementById(outputId);\n",
              "  // Cache steps on the outputElement to make it available for the next call\n",
              "  // to uploadFilesContinue from Python.\n",
              "  outputElement.steps = steps;\n",
              "\n",
              "  return _uploadFilesContinue(outputId);\n",
              "}\n",
              "\n",
              "// This is roughly an async generator (not supported in the browser yet),\n",
              "// where there are multiple asynchronous steps and the Python side is going\n",
              "// to poll for completion of each step.\n",
              "// This uses a Promise to block the python side on completion of each step,\n",
              "// then passes the result of the previous step as the input to the next step.\n",
              "function _uploadFilesContinue(outputId) {\n",
              "  const outputElement = document.getElementById(outputId);\n",
              "  const steps = outputElement.steps;\n",
              "\n",
              "  const next = steps.next(outputElement.lastPromiseValue);\n",
              "  return Promise.resolve(next.value.promise).then((value) => {\n",
              "    // Cache the last promise value to make it available to the next\n",
              "    // step of the generator.\n",
              "    outputElement.lastPromiseValue = value;\n",
              "    return next.value.response;\n",
              "  });\n",
              "}\n",
              "\n",
              "/**\n",
              " * Generator function which is called between each async step of the upload\n",
              " * process.\n",
              " * @param {string} inputId Element ID of the input file picker element.\n",
              " * @param {string} outputId Element ID of the output display.\n",
              " * @return {!Iterable<!Object>} Iterable of next steps.\n",
              " */\n",
              "function* uploadFilesStep(inputId, outputId) {\n",
              "  const inputElement = document.getElementById(inputId);\n",
              "  inputElement.disabled = false;\n",
              "\n",
              "  const outputElement = document.getElementById(outputId);\n",
              "  outputElement.innerHTML = '';\n",
              "\n",
              "  const pickedPromise = new Promise((resolve) => {\n",
              "    inputElement.addEventListener('change', (e) => {\n",
              "      resolve(e.target.files);\n",
              "    });\n",
              "  });\n",
              "\n",
              "  const cancel = document.createElement('button');\n",
              "  inputElement.parentElement.appendChild(cancel);\n",
              "  cancel.textContent = 'Cancel upload';\n",
              "  const cancelPromise = new Promise((resolve) => {\n",
              "    cancel.onclick = () => {\n",
              "      resolve(null);\n",
              "    };\n",
              "  });\n",
              "\n",
              "  // Wait for the user to pick the files.\n",
              "  const files = yield {\n",
              "    promise: Promise.race([pickedPromise, cancelPromise]),\n",
              "    response: {\n",
              "      action: 'starting',\n",
              "    }\n",
              "  };\n",
              "\n",
              "  cancel.remove();\n",
              "\n",
              "  // Disable the input element since further picks are not allowed.\n",
              "  inputElement.disabled = true;\n",
              "\n",
              "  if (!files) {\n",
              "    return {\n",
              "      response: {\n",
              "        action: 'complete',\n",
              "      }\n",
              "    };\n",
              "  }\n",
              "\n",
              "  for (const file of files) {\n",
              "    const li = document.createElement('li');\n",
              "    li.append(span(file.name, {fontWeight: 'bold'}));\n",
              "    li.append(span(\n",
              "        `(${file.type || 'n/a'}) - ${file.size} bytes, ` +\n",
              "        `last modified: ${\n",
              "            file.lastModifiedDate ? file.lastModifiedDate.toLocaleDateString() :\n",
              "                                    'n/a'} - `));\n",
              "    const percent = span('0% done');\n",
              "    li.appendChild(percent);\n",
              "\n",
              "    outputElement.appendChild(li);\n",
              "\n",
              "    const fileDataPromise = new Promise((resolve) => {\n",
              "      const reader = new FileReader();\n",
              "      reader.onload = (e) => {\n",
              "        resolve(e.target.result);\n",
              "      };\n",
              "      reader.readAsArrayBuffer(file);\n",
              "    });\n",
              "    // Wait for the data to be ready.\n",
              "    let fileData = yield {\n",
              "      promise: fileDataPromise,\n",
              "      response: {\n",
              "        action: 'continue',\n",
              "      }\n",
              "    };\n",
              "\n",
              "    // Use a chunked sending to avoid message size limits. See b/62115660.\n",
              "    let position = 0;\n",
              "    do {\n",
              "      const length = Math.min(fileData.byteLength - position, MAX_PAYLOAD_SIZE);\n",
              "      const chunk = new Uint8Array(fileData, position, length);\n",
              "      position += length;\n",
              "\n",
              "      const base64 = btoa(String.fromCharCode.apply(null, chunk));\n",
              "      yield {\n",
              "        response: {\n",
              "          action: 'append',\n",
              "          file: file.name,\n",
              "          data: base64,\n",
              "        },\n",
              "      };\n",
              "\n",
              "      let percentDone = fileData.byteLength === 0 ?\n",
              "          100 :\n",
              "          Math.round((position / fileData.byteLength) * 100);\n",
              "      percent.textContent = `${percentDone}% done`;\n",
              "\n",
              "    } while (position < fileData.byteLength);\n",
              "  }\n",
              "\n",
              "  // All done.\n",
              "  yield {\n",
              "    response: {\n",
              "      action: 'complete',\n",
              "    }\n",
              "  };\n",
              "}\n",
              "\n",
              "scope.google = scope.google || {};\n",
              "scope.google.colab = scope.google.colab || {};\n",
              "scope.google.colab._files = {\n",
              "  _uploadFiles,\n",
              "  _uploadFilesContinue,\n",
              "};\n",
              "})(self);\n",
              "</script> "
            ]
          },
          "metadata": {}
        },
        {
          "output_type": "stream",
          "name": "stdout",
          "text": [
            "Saving 2023_sample_data1.xlsx to 2023_sample_data1 (6).xlsx\n"
          ]
        }
      ]
    },
    {
      "cell_type": "code",
      "source": [
        "file_path_previous_year = '2023_sample_data1.xlsx'"
      ],
      "metadata": {
        "id": "0L2i_J8fLxsH"
      },
      "execution_count": 3,
      "outputs": []
    },
    {
      "cell_type": "code",
      "source": [
        "# file_path_current_year = 'path_to_input_folder/2024_sample_data.xlsx'\n",
        "# file_path_previous_year = 'path_to_input_folder/2023_sample_data.xlsx'\n",
        "# output_folder_path = 'path_to_output_folder/'"
      ],
      "metadata": {
        "id": "GKt-MzlhGYaB"
      },
      "execution_count": null,
      "outputs": []
    },
    {
      "cell_type": "code",
      "source": [
        "# Defining a function for the following data cleaning steps\n",
        "def clean_data(file_path):\n",
        "    # Load the data with no predefined header\n",
        "    cpt_df = pd.read_excel(file_path, engine='openpyxl', header=4)\n",
        "\n",
        "    # Filtering rows and extracting only 'A' followed by nine digits\n",
        "    filtered_cpt_df = cpt_df[cpt_df['Unnamed: 0'].str.extract(r'(A\\d{9})', expand=False).notna()].copy()\n",
        "\n",
        "    # Extracting the ID\n",
        "    filtered_cpt_df['ID'] = filtered_cpt_df['Unnamed: 0'].str.extract(r'(A\\d{9})', expand=False)\n",
        "\n",
        "    # Reorder columns to place 'ID' next to 'Unnamed: 0'\n",
        "    cols = filtered_cpt_df.columns.tolist()\n",
        "    id_index = cols.index('ID')\n",
        "    cols = cols[:1] + [cols[id_index]] + cols[1:id_index] + cols[id_index + 1:]\n",
        "    filtered_cpt_df = filtered_cpt_df[cols]\n",
        "\n",
        "    # Drop 'Unnamed: 0' column\n",
        "    filtered_cpt_df = filtered_cpt_df.drop('Unnamed: 0', axis=1)\n",
        "\n",
        "    # Drop specific columns (1 to 7)\n",
        "    filtered_cpt_df = filtered_cpt_df.drop(filtered_cpt_df.columns[1:8], axis=1)\n",
        "\n",
        "    # Select every 7th column starting from the 8th column (index 7)\n",
        "    # Unnecessary column for the analysis with no data\n",
        "    column_names = filtered_cpt_df.columns.tolist()\n",
        "    columns_to_drop = column_names[7::7]\n",
        "\n",
        "    # Drop the selected columns from the DataFrame\n",
        "    filtered_cpt_df.drop(columns=columns_to_drop, inplace=True)\n",
        "\n",
        "    return filtered_cpt_df"
      ],
      "metadata": {
        "id": "kcVm49man2pl"
      },
      "execution_count": 4,
      "outputs": []
    },
    {
      "cell_type": "code",
      "source": [
        "# Call the clean_data function\n",
        "filtered_cpt_df1 = clean_data(file_path_previous_year) # file_path_current_year"
      ],
      "metadata": {
        "id": "iqy7t53MygMm"
      },
      "execution_count": 5,
      "outputs": []
    },
    {
      "cell_type": "code",
      "source": [
        "filtered_cpt_df1.shape"
      ],
      "metadata": {
        "colab": {
          "base_uri": "https://localhost:8080/"
        },
        "id": "YLmJOSazG4f9",
        "outputId": "00bf2020-64de-4352-98cb-66c6d8dbc7d7"
      },
      "execution_count": 6,
      "outputs": [
        {
          "output_type": "execute_result",
          "data": {
            "text/plain": [
              "(2, 73)"
            ]
          },
          "metadata": {},
          "execution_count": 6
        }
      ]
    },
    {
      "cell_type": "code",
      "source": [
        "def replace_suffix_with_months(df):\n",
        "    \"\"\"\n",
        "    This function replaces numerical suffixes in column names with corresponding month names\n",
        "    and replaces dots with spaces.\n",
        "\n",
        "    Args:\n",
        "    df (pd.DataFrame): The input DataFrame whose column names need to be updated.\n",
        "\n",
        "    Returns:\n",
        "    pd.DataFrame: The DataFrame with updated column names.\n",
        "    \"\"\"\n",
        "    # Mapping of number suffixes to month names\n",
        "    month_map = {\n",
        "        '.1': ' Jan',\n",
        "        '.2': ' Feb',\n",
        "        '.3': ' Mar',\n",
        "        '.4': ' Apr',\n",
        "        '.5': ' May',\n",
        "        '.6': ' Jun',\n",
        "        '.7': ' Jul',\n",
        "        '.8': ' Aug',\n",
        "        '.9': ' Sep',\n",
        "        '.10': ' Oct',\n",
        "        '.11': ' Nov',\n",
        "        '.12': ' Dec'\n",
        "    }\n",
        "\n",
        "    # Replace dots with spaces and map suffixes at the end of column names to respective months\n",
        "    new_column_names = []\n",
        "    for column_name in df.columns:\n",
        "        new_column_name = column_name.replace('.', ' ')  # Replace dots with spaces\n",
        "        for suffix, month_name in month_map.items():\n",
        "            # Ensure we replace only if the suffix appears at the end of the column name\n",
        "            if new_column_name.endswith(suffix.replace('.', ' ')):\n",
        "                new_column_name = new_column_name.replace(suffix.replace('.', ' '), month_name)\n",
        "        new_column_names.append(new_column_name)\n",
        "\n",
        "    # Assign the new column names to the dataframe\n",
        "    df.columns = new_column_names\n",
        "\n",
        "    return df"
      ],
      "metadata": {
        "id": "lNbIIHGvgqNT"
      },
      "execution_count": 7,
      "outputs": []
    },
    {
      "cell_type": "code",
      "source": [
        "filtered_cpt_df1 = replace_suffix_with_months(filtered_cpt_df1)"
      ],
      "metadata": {
        "id": "T7s4b6Qdz7vg"
      },
      "execution_count": 8,
      "outputs": []
    },
    {
      "cell_type": "code",
      "source": [
        "print(filtered_cpt_df1.shape)"
      ],
      "metadata": {
        "colab": {
          "base_uri": "https://localhost:8080/"
        },
        "id": "SXfqibyXdYRu",
        "outputId": "4aa70e52-4e06-4d99-833b-34d8e03fd541"
      },
      "execution_count": 9,
      "outputs": [
        {
          "output_type": "stream",
          "name": "stdout",
          "text": [
            "(2, 73)\n"
          ]
        }
      ]
    },
    {
      "cell_type": "code",
      "source": [
        "def rename_columns(filtered_cpt_df):\n",
        "    # Define the new column name mappings for replacements at the start of column names\n",
        "    new_column_names = {\n",
        "        'ID': 'BPID',\n",
        "        'Purch Volume': 'PurchVolume',\n",
        "        'S-Revenues': 'Revenue',\n",
        "        'Profit Margin I*': 'PMIStar',  # Handle the specific case for PMIStar first\n",
        "        'Profit Margin I': 'PMI',\n",
        "        'PM I % of Purchased Volume': 'PMIRate',\n",
        "        'PM I* % of Purchased Volume': 'PMIStarRate'\n",
        "    }\n",
        "\n",
        "    # Clean column names by collapsing multiple spaces into a single space\n",
        "    filtered_cpt_df.columns = [re.sub(r'\\s+', ' ', col) for col in filtered_cpt_df.columns]\n",
        "\n",
        "    # Iterate through the columns and apply the renaming based on the starting part of the name\n",
        "    updated_columns = []\n",
        "    for column in filtered_cpt_df.columns:\n",
        "        # Check if the column starts with any of the keys in new_column_names\n",
        "        for old_name, new_name in new_column_names.items():\n",
        "            if column.startswith(old_name):\n",
        "                # Replace the old part of the column name with the new one and keep the suffix (e.g., \"Jan\", \"Feb\")\n",
        "                new_column = column.replace(old_name, new_name, 1)\n",
        "                updated_columns.append(new_column)\n",
        "                break\n",
        "        else:\n",
        "            # If no match, keep the column name unchanged\n",
        "            updated_columns.append(column)\n",
        "\n",
        "    # Rename the columns in the dataframe\n",
        "    filtered_cpt_df.columns = updated_columns\n",
        "\n",
        "    return filtered_cpt_df"
      ],
      "metadata": {
        "id": "ZoQJLQ8912OW"
      },
      "execution_count": 10,
      "outputs": []
    },
    {
      "cell_type": "code",
      "source": [
        "filtered_cpt_df1 = rename_columns(filtered_cpt_df1)"
      ],
      "metadata": {
        "id": "xTd0UVKp16JK"
      },
      "execution_count": 11,
      "outputs": []
    },
    {
      "cell_type": "code",
      "source": [
        "from google.colab import files\n",
        "uploaded = files.upload()"
      ],
      "metadata": {
        "colab": {
          "base_uri": "https://localhost:8080/",
          "height": 90
        },
        "id": "jY2uocJZJzIH",
        "outputId": "9273da02-4d3a-4ed7-beb3-01e7a39bedae"
      },
      "execution_count": 12,
      "outputs": [
        {
          "output_type": "display_data",
          "data": {
            "text/plain": [
              "<IPython.core.display.HTML object>"
            ],
            "text/html": [
              "\n",
              "     <input type=\"file\" id=\"files-7127159f-6c75-4efe-8fcb-487de4669a68\" name=\"files[]\" multiple disabled\n",
              "        style=\"border:none\" />\n",
              "     <output id=\"result-7127159f-6c75-4efe-8fcb-487de4669a68\">\n",
              "      Upload widget is only available when the cell has been executed in the\n",
              "      current browser session. Please rerun this cell to enable.\n",
              "      </output>\n",
              "      <script>// Copyright 2017 Google LLC\n",
              "//\n",
              "// Licensed under the Apache License, Version 2.0 (the \"License\");\n",
              "// you may not use this file except in compliance with the License.\n",
              "// You may obtain a copy of the License at\n",
              "//\n",
              "//      http://www.apache.org/licenses/LICENSE-2.0\n",
              "//\n",
              "// Unless required by applicable law or agreed to in writing, software\n",
              "// distributed under the License is distributed on an \"AS IS\" BASIS,\n",
              "// WITHOUT WARRANTIES OR CONDITIONS OF ANY KIND, either express or implied.\n",
              "// See the License for the specific language governing permissions and\n",
              "// limitations under the License.\n",
              "\n",
              "/**\n",
              " * @fileoverview Helpers for google.colab Python module.\n",
              " */\n",
              "(function(scope) {\n",
              "function span(text, styleAttributes = {}) {\n",
              "  const element = document.createElement('span');\n",
              "  element.textContent = text;\n",
              "  for (const key of Object.keys(styleAttributes)) {\n",
              "    element.style[key] = styleAttributes[key];\n",
              "  }\n",
              "  return element;\n",
              "}\n",
              "\n",
              "// Max number of bytes which will be uploaded at a time.\n",
              "const MAX_PAYLOAD_SIZE = 100 * 1024;\n",
              "\n",
              "function _uploadFiles(inputId, outputId) {\n",
              "  const steps = uploadFilesStep(inputId, outputId);\n",
              "  const outputElement = document.getElementById(outputId);\n",
              "  // Cache steps on the outputElement to make it available for the next call\n",
              "  // to uploadFilesContinue from Python.\n",
              "  outputElement.steps = steps;\n",
              "\n",
              "  return _uploadFilesContinue(outputId);\n",
              "}\n",
              "\n",
              "// This is roughly an async generator (not supported in the browser yet),\n",
              "// where there are multiple asynchronous steps and the Python side is going\n",
              "// to poll for completion of each step.\n",
              "// This uses a Promise to block the python side on completion of each step,\n",
              "// then passes the result of the previous step as the input to the next step.\n",
              "function _uploadFilesContinue(outputId) {\n",
              "  const outputElement = document.getElementById(outputId);\n",
              "  const steps = outputElement.steps;\n",
              "\n",
              "  const next = steps.next(outputElement.lastPromiseValue);\n",
              "  return Promise.resolve(next.value.promise).then((value) => {\n",
              "    // Cache the last promise value to make it available to the next\n",
              "    // step of the generator.\n",
              "    outputElement.lastPromiseValue = value;\n",
              "    return next.value.response;\n",
              "  });\n",
              "}\n",
              "\n",
              "/**\n",
              " * Generator function which is called between each async step of the upload\n",
              " * process.\n",
              " * @param {string} inputId Element ID of the input file picker element.\n",
              " * @param {string} outputId Element ID of the output display.\n",
              " * @return {!Iterable<!Object>} Iterable of next steps.\n",
              " */\n",
              "function* uploadFilesStep(inputId, outputId) {\n",
              "  const inputElement = document.getElementById(inputId);\n",
              "  inputElement.disabled = false;\n",
              "\n",
              "  const outputElement = document.getElementById(outputId);\n",
              "  outputElement.innerHTML = '';\n",
              "\n",
              "  const pickedPromise = new Promise((resolve) => {\n",
              "    inputElement.addEventListener('change', (e) => {\n",
              "      resolve(e.target.files);\n",
              "    });\n",
              "  });\n",
              "\n",
              "  const cancel = document.createElement('button');\n",
              "  inputElement.parentElement.appendChild(cancel);\n",
              "  cancel.textContent = 'Cancel upload';\n",
              "  const cancelPromise = new Promise((resolve) => {\n",
              "    cancel.onclick = () => {\n",
              "      resolve(null);\n",
              "    };\n",
              "  });\n",
              "\n",
              "  // Wait for the user to pick the files.\n",
              "  const files = yield {\n",
              "    promise: Promise.race([pickedPromise, cancelPromise]),\n",
              "    response: {\n",
              "      action: 'starting',\n",
              "    }\n",
              "  };\n",
              "\n",
              "  cancel.remove();\n",
              "\n",
              "  // Disable the input element since further picks are not allowed.\n",
              "  inputElement.disabled = true;\n",
              "\n",
              "  if (!files) {\n",
              "    return {\n",
              "      response: {\n",
              "        action: 'complete',\n",
              "      }\n",
              "    };\n",
              "  }\n",
              "\n",
              "  for (const file of files) {\n",
              "    const li = document.createElement('li');\n",
              "    li.append(span(file.name, {fontWeight: 'bold'}));\n",
              "    li.append(span(\n",
              "        `(${file.type || 'n/a'}) - ${file.size} bytes, ` +\n",
              "        `last modified: ${\n",
              "            file.lastModifiedDate ? file.lastModifiedDate.toLocaleDateString() :\n",
              "                                    'n/a'} - `));\n",
              "    const percent = span('0% done');\n",
              "    li.appendChild(percent);\n",
              "\n",
              "    outputElement.appendChild(li);\n",
              "\n",
              "    const fileDataPromise = new Promise((resolve) => {\n",
              "      const reader = new FileReader();\n",
              "      reader.onload = (e) => {\n",
              "        resolve(e.target.result);\n",
              "      };\n",
              "      reader.readAsArrayBuffer(file);\n",
              "    });\n",
              "    // Wait for the data to be ready.\n",
              "    let fileData = yield {\n",
              "      promise: fileDataPromise,\n",
              "      response: {\n",
              "        action: 'continue',\n",
              "      }\n",
              "    };\n",
              "\n",
              "    // Use a chunked sending to avoid message size limits. See b/62115660.\n",
              "    let position = 0;\n",
              "    do {\n",
              "      const length = Math.min(fileData.byteLength - position, MAX_PAYLOAD_SIZE);\n",
              "      const chunk = new Uint8Array(fileData, position, length);\n",
              "      position += length;\n",
              "\n",
              "      const base64 = btoa(String.fromCharCode.apply(null, chunk));\n",
              "      yield {\n",
              "        response: {\n",
              "          action: 'append',\n",
              "          file: file.name,\n",
              "          data: base64,\n",
              "        },\n",
              "      };\n",
              "\n",
              "      let percentDone = fileData.byteLength === 0 ?\n",
              "          100 :\n",
              "          Math.round((position / fileData.byteLength) * 100);\n",
              "      percent.textContent = `${percentDone}% done`;\n",
              "\n",
              "    } while (position < fileData.byteLength);\n",
              "  }\n",
              "\n",
              "  // All done.\n",
              "  yield {\n",
              "    response: {\n",
              "      action: 'complete',\n",
              "    }\n",
              "  };\n",
              "}\n",
              "\n",
              "scope.google = scope.google || {};\n",
              "scope.google.colab = scope.google.colab || {};\n",
              "scope.google.colab._files = {\n",
              "  _uploadFiles,\n",
              "  _uploadFilesContinue,\n",
              "};\n",
              "})(self);\n",
              "</script> "
            ]
          },
          "metadata": {}
        },
        {
          "output_type": "stream",
          "name": "stdout",
          "text": [
            "Saving 2024_sample_data.xlsx to 2024_sample_data (6).xlsx\n"
          ]
        }
      ]
    },
    {
      "cell_type": "code",
      "source": [
        "file_path_current_year = '2024_sample_data.xlsx'"
      ],
      "metadata": {
        "id": "icpcaHhemRsG"
      },
      "execution_count": 13,
      "outputs": []
    },
    {
      "cell_type": "code",
      "source": [
        "# Call the clean_data function\n",
        "filtered_cpt_df2 = clean_data(file_path_current_year)"
      ],
      "metadata": {
        "id": "nkbRNtJ4meh-"
      },
      "execution_count": 14,
      "outputs": []
    },
    {
      "cell_type": "code",
      "source": [
        "# Assuming 'filtered_cpt_df2' is your DataFrame\n",
        "filtered_cpt_df2 = replace_suffix_with_months(filtered_cpt_df2)"
      ],
      "metadata": {
        "id": "DEc-IhdCg-56"
      },
      "execution_count": 15,
      "outputs": []
    },
    {
      "cell_type": "code",
      "source": [
        "filtered_cpt_df2 = rename_columns(filtered_cpt_df2)"
      ],
      "metadata": {
        "id": "hJIJ1876ye1P"
      },
      "execution_count": 16,
      "outputs": []
    },
    {
      "cell_type": "code",
      "source": [
        "filtered_cpt_df1.shape"
      ],
      "metadata": {
        "id": "37DCuHVPULCN",
        "outputId": "ee2a3100-16cb-4bc5-acb8-87b6df292c58",
        "colab": {
          "base_uri": "https://localhost:8080/"
        }
      },
      "execution_count": 17,
      "outputs": [
        {
          "output_type": "execute_result",
          "data": {
            "text/plain": [
              "(2, 73)"
            ]
          },
          "metadata": {},
          "execution_count": 17
        }
      ]
    },
    {
      "cell_type": "code",
      "source": [
        "filtered_cpt_df1.columns"
      ],
      "metadata": {
        "id": "KMMskXMIUNzt",
        "outputId": "7006ef12-7738-4c8e-ad7d-0cb8d3b38c48",
        "colab": {
          "base_uri": "https://localhost:8080/"
        }
      },
      "execution_count": 19,
      "outputs": [
        {
          "output_type": "execute_result",
          "data": {
            "text/plain": [
              "Index(['BPID', 'PurchVolume Jan', 'Revenue Jan', 'PMI Jan', 'PMIRate Jan',\n",
              "       'PMIStar Jan', 'PMIStarRate Jan', 'PurchVolume Feb', 'Revenue Feb',\n",
              "       'PMI Feb', 'PMIRate Feb', 'PMIStar Feb', 'PMIStarRate Feb',\n",
              "       'PurchVolume Mar', 'Revenue Mar', 'PMI Mar', 'PMIRate Mar',\n",
              "       'PMIStar Mar', 'PMIStarRate Mar', 'PurchVolume Apr', 'Revenue Apr',\n",
              "       'PMI Apr', 'PMIRate Apr', 'PMIStar Apr', 'PMIStarRate Apr',\n",
              "       'PurchVolume May', 'Revenue May', 'PMI May', 'PMIRate May',\n",
              "       'PMIStar May', 'PMIStarRate May', 'PurchVolume Jun', 'Revenue Jun',\n",
              "       'PMI Jun', 'PMIRate Jun', 'PMIStar Jun', 'PMIStarRate Jun',\n",
              "       'PurchVolume Jul', 'Revenue Jul', 'PMI Jul', 'PMIRate Jul',\n",
              "       'PMIStar Jul', 'PMIStarRate Jul', 'PurchVolume Aug', 'Revenue Aug',\n",
              "       'PMI Aug', 'PMIRate Aug', 'PMIStar Aug', 'PMIStarRate Aug',\n",
              "       'PurchVolume Sep', 'Revenue Sep', 'PMI Sep', 'PMIRate Sep',\n",
              "       'PMIStar Sep', 'PMIStarRate Sep', 'PurchVolume Oct', 'Revenue Oct',\n",
              "       'PMI Oct', 'PMIRate Oct', 'PMIStar Oct', 'PMIStarRate Oct',\n",
              "       'PurchVolume Nov', 'Revenue Nov', 'PMI Nov', 'PMIRate Nov',\n",
              "       'PMIStar Nov', 'PMIStarRate Nov', 'PurchVolume Dec', 'Revenue Dec',\n",
              "       'PMI Dec', 'PMIRate Dec', 'PMIStar Dec', 'PMIStarRate Dec'],\n",
              "      dtype='object')"
            ]
          },
          "metadata": {},
          "execution_count": 19
        }
      ]
    },
    {
      "cell_type": "code",
      "source": [
        "filtered_cpt_df2.shape"
      ],
      "metadata": {
        "id": "xprvsazoUgvl",
        "outputId": "dd916dc1-5e28-4248-e5fe-cff7b93f30fb",
        "colab": {
          "base_uri": "https://localhost:8080/"
        }
      },
      "execution_count": 20,
      "outputs": [
        {
          "output_type": "execute_result",
          "data": {
            "text/plain": [
              "(2, 19)"
            ]
          },
          "metadata": {},
          "execution_count": 20
        }
      ]
    },
    {
      "cell_type": "code",
      "source": [
        "filtered_cpt_df2.columns"
      ],
      "metadata": {
        "id": "RQMHfdpMUiol",
        "outputId": "4be3c80f-7346-4d59-eb28-97a7d79d32ca",
        "colab": {
          "base_uri": "https://localhost:8080/"
        }
      },
      "execution_count": 21,
      "outputs": [
        {
          "output_type": "execute_result",
          "data": {
            "text/plain": [
              "Index(['BPID', 'PurchVolume Jan', 'Revenue Jan', 'PMI Jan', 'PMIRate Jan',\n",
              "       'PMIStar Jan', 'PMIStarRate Jan', 'PurchVolume Feb', 'Revenue Feb',\n",
              "       'PMI Feb', 'PMIRate Feb', 'PMIStar Feb', 'PMIStarRate Feb',\n",
              "       'PurchVolume Mar', 'Revenue Mar', 'PMI Mar', 'PMIRate Mar',\n",
              "       'PMIStar Mar', 'PMIStarRate Mar'],\n",
              "      dtype='object')"
            ]
          },
          "metadata": {},
          "execution_count": 21
        }
      ]
    },
    {
      "cell_type": "code",
      "source": [
        "# Function to map month columns to their respective month-year combinations\n",
        "def map_month_columns(df, year):\n",
        "    month_mapping = {\n",
        "        'Jan': '01', 'Feb': '02', 'Mar': '03', 'Apr': '04',\n",
        "        'May': '05', 'Jun': '06', 'Jul': '07', 'Aug': '08',\n",
        "        'Sep': '09', 'Oct': '10', 'Nov': '11', 'Dec': '12'\n",
        "    }\n",
        "\n",
        "    new_columns = []\n",
        "    for col in df.columns:\n",
        "        # Check if the column name contains one of the months\n",
        "        for month, num in month_mapping.items():\n",
        "            if month in col:\n",
        "                # If the column matches a month, append the respective year and month\n",
        "                # The first part of the column before the month is the metric name (e.g., 'PurchVolume')\n",
        "                metric = col.replace(f' {month}', '')  # Remove the month from the name\n",
        "                new_columns.append(f\"{metric} {num}.{year}\")\n",
        "                break\n",
        "        else:\n",
        "            # Keep non-month columns (e.g., 'BPID') unchanged\n",
        "            new_columns.append(col)\n",
        "\n",
        "    df.columns = new_columns\n",
        "    return df\n",
        "\n",
        "\n",
        "# Mapping columns for 2023\n",
        "filtered_cpt_df1_mapped = map_month_columns(filtered_cpt_df1, '2023')\n",
        "# Mapping columns for 2024\n",
        "filtered_cpt_df2_mapped = map_month_columns(filtered_cpt_df2, '2024')"
      ],
      "metadata": {
        "id": "ZE1HLRehjJMk"
      },
      "execution_count": 22,
      "outputs": []
    },
    {
      "cell_type": "code",
      "source": [
        "# Combine the two dataframes (filtered_cpt_df1_mapped and filtered_cpt_df2_mapped)\n",
        "# Skip the 'BPID' column in the second dataframe to avoid duplication\n",
        "combined_df = pd.concat([filtered_cpt_df1_mapped, filtered_cpt_df2_mapped.iloc[:, 1:]], axis=1)"
      ],
      "metadata": {
        "id": "FAruPZxzOyGe"
      },
      "execution_count": 23,
      "outputs": []
    },
    {
      "cell_type": "code",
      "source": [
        "combined_df.shape"
      ],
      "metadata": {
        "id": "JUp9iSLbU8Ev",
        "outputId": "f3ea6ed8-97af-48c4-bbf2-8f0598601c06",
        "colab": {
          "base_uri": "https://localhost:8080/"
        }
      },
      "execution_count": 24,
      "outputs": [
        {
          "output_type": "execute_result",
          "data": {
            "text/plain": [
              "(2, 91)"
            ]
          },
          "metadata": {},
          "execution_count": 24
        }
      ]
    },
    {
      "cell_type": "code",
      "source": [
        "combined_df.columns"
      ],
      "metadata": {
        "id": "tqrkcx-OU_gA",
        "outputId": "384b7094-b278-4219-bf4d-d522bf5a063a",
        "colab": {
          "base_uri": "https://localhost:8080/"
        }
      },
      "execution_count": 25,
      "outputs": [
        {
          "output_type": "execute_result",
          "data": {
            "text/plain": [
              "Index(['BPID', 'PurchVolume 01.2023', 'Revenue 01.2023', 'PMI 01.2023',\n",
              "       'PMIRate 01.2023', 'PMIStar 01.2023', 'PMIStarRate 01.2023',\n",
              "       'PurchVolume 02.2023', 'Revenue 02.2023', 'PMI 02.2023',\n",
              "       'PMIRate 02.2023', 'PMIStar 02.2023', 'PMIStarRate 02.2023',\n",
              "       'PurchVolume 03.2023', 'Revenue 03.2023', 'PMI 03.2023',\n",
              "       'PMIRate 03.2023', 'PMIStar 03.2023', 'PMIStarRate 03.2023',\n",
              "       'PurchVolume 04.2023', 'Revenue 04.2023', 'PMI 04.2023',\n",
              "       'PMIRate 04.2023', 'PMIStar 04.2023', 'PMIStarRate 04.2023',\n",
              "       'PurchVolume 05.2023', 'Revenue 05.2023', 'PMI 05.2023',\n",
              "       'PMIRate 05.2023', 'PMIStar 05.2023', 'PMIStarRate 05.2023',\n",
              "       'PurchVolume 06.2023', 'Revenue 06.2023', 'PMI 06.2023',\n",
              "       'PMIRate 06.2023', 'PMIStar 06.2023', 'PMIStarRate 06.2023',\n",
              "       'PurchVolume 07.2023', 'Revenue 07.2023', 'PMI 07.2023',\n",
              "       'PMIRate 07.2023', 'PMIStar 07.2023', 'PMIStarRate 07.2023',\n",
              "       'PurchVolume 08.2023', 'Revenue 08.2023', 'PMI 08.2023',\n",
              "       'PMIRate 08.2023', 'PMIStar 08.2023', 'PMIStarRate 08.2023',\n",
              "       'PurchVolume 09.2023', 'Revenue 09.2023', 'PMI 09.2023',\n",
              "       'PMIRate 09.2023', 'PMIStar 09.2023', 'PMIStarRate 09.2023',\n",
              "       'PurchVolume 10.2023', 'Revenue 10.2023', 'PMI 10.2023',\n",
              "       'PMIRate 10.2023', 'PMIStar 10.2023', 'PMIStarRate 10.2023',\n",
              "       'PurchVolume 11.2023', 'Revenue 11.2023', 'PMI 11.2023',\n",
              "       'PMIRate 11.2023', 'PMIStar 11.2023', 'PMIStarRate 11.2023',\n",
              "       'PurchVolume 12.2023', 'Revenue 12.2023', 'PMI 12.2023',\n",
              "       'PMIRate 12.2023', 'PMIStar 12.2023', 'PMIStarRate 12.2023',\n",
              "       'PurchVolume 01.2024', 'Revenue 01.2024', 'PMI 01.2024',\n",
              "       'PMIRate 01.2024', 'PMIStar 01.2024', 'PMIStarRate 01.2024',\n",
              "       'PurchVolume 02.2024', 'Revenue 02.2024', 'PMI 02.2024',\n",
              "       'PMIRate 02.2024', 'PMIStar 02.2024', 'PMIStarRate 02.2024',\n",
              "       'PurchVolume 03.2024', 'Revenue 03.2024', 'PMI 03.2024',\n",
              "       'PMIRate 03.2024', 'PMIStar 03.2024', 'PMIStarRate 03.2024'],\n",
              "      dtype='object')"
            ]
          },
          "metadata": {},
          "execution_count": 25
        }
      ]
    },
    {
      "cell_type": "code",
      "source": [
        "# Combine the two dataframes (filtered_cpt_df1_mapped and filtered_cpt_df2_mapped)\n",
        "# Skip the 'BPID' column in the second dataframe to avoid duplication\n",
        "combined_df = pd.concat([filtered_cpt_df1_mapped, filtered_cpt_df2_mapped.iloc[:, 1:]], axis=1)\n",
        "\n",
        "# Function to filter columns based on start and end months\n",
        "def filter_columns_by_period(df, start_month, end_month):\n",
        "    # Get the list of columns\n",
        "    columns = df.columns.tolist()\n",
        "\n",
        "    # Find the index of the start and end columns\n",
        "    start_idx = None\n",
        "    end_idx = None\n",
        "\n",
        "    # Iterate through columns and identify where the range starts and ends\n",
        "    for i, col in enumerate(columns):\n",
        "        if start_month in col:\n",
        "            start_idx = i\n",
        "        if end_month in col:\n",
        "            end_idx = i\n",
        "\n",
        "    # Slice the dataframe columns within the start and end index\n",
        "    if start_idx is not None and end_idx is not None:\n",
        "        filtered_df = df.iloc[:, :1]  # Include the 'BPID' column\n",
        "        filtered_df = pd.concat([filtered_df, df.iloc[:, start_idx:end_idx + 1]], axis=1)\n",
        "    else:\n",
        "        raise ValueError(\"Invalid start or end month. Please check the month-year format.\")\n",
        "\n",
        "    return filtered_df\n",
        "\n",
        "# Example usage:\n",
        "start_month = '11.2023'  # Specify the start month (MM.YYYY format)\n",
        "end_month = '02.2024'  # Specify the end month (MM.YYYY format)\n",
        "\n",
        "# Filter the combined dataframe based on the given period\n",
        "filtered_combined_df = filter_columns_by_period(combined_df, start_month, end_month)\n",
        "\n",
        "# View the result\n",
        "print(filtered_combined_df)"
      ],
      "metadata": {
        "id": "J-rC4vprVSp1",
        "outputId": "b39e8b2a-7067-4bdf-ef34-922c44193994",
        "colab": {
          "base_uri": "https://localhost:8080/"
        }
      },
      "execution_count": 28,
      "outputs": [
        {
          "output_type": "stream",
          "name": "stdout",
          "text": [
            "         BPID  PMIStarRate 11.2023  PurchVolume 12.2023  Revenue 12.2023  \\\n",
            "5  A987654321                2.033                 65.0             34.0   \n",
            "8  A123456789                2.519                543.0            725.0   \n",
            "\n",
            "   PMI 12.2023  PMIRate 12.2023  PMIStar 12.2023  PMIStarRate 12.2023  \\\n",
            "5         34.0           9.8384             45.0                2.033   \n",
            "8        643.0          15.7322            542.0                2.519   \n",
            "\n",
            "   PurchVolume 01.2024  Revenue 01.2024  PMI 01.2024  PMIRate 01.2024  \\\n",
            "5                678.0          87464.0       7656.0            44.68   \n",
            "8               8876.0           3566.0        765.0            71.44   \n",
            "\n",
            "   PMIStar 01.2024  PMIStarRate 01.2024  PurchVolume 02.2024  Revenue 02.2024  \\\n",
            "5            454.0                 0.09               4355.0             43.0   \n",
            "8           4326.0                 0.12               1345.0             33.0   \n",
            "\n",
            "   PMI 02.2024  PMIRate 02.2024  PMIStar 02.2024  PMIStarRate 02.2024  \n",
            "5          2.0             0.14            546.0             3.785323  \n",
            "8         32.0             0.20             65.0             5.724400  \n"
          ]
        }
      ]
    },
    {
      "cell_type": "code",
      "source": [
        "# Function to filter columns based on start and end months\n",
        "def filter_columns_by_period(df, start_month, end_month):\n",
        "    # Get the list of columns\n",
        "    columns = df.columns.tolist()\n",
        "\n",
        "    # Find all columns matching the start and end months\n",
        "    start_idx = None\n",
        "    end_idx = None\n",
        "\n",
        "    for i, col in enumerate(columns):\n",
        "        # Check for the first full set of columns that start with start_month\n",
        "        if start_month in col and 'PurchVolume' in col:\n",
        "            start_idx = i\n",
        "        # Check for the last full set of columns that include the end_month\n",
        "        if end_month in col and 'PMIStarRate' in col:\n",
        "            end_idx = i + 1  # Add 1 to include the end month columns in the slice\n",
        "\n",
        "    # Slice the dataframe columns within the start and end index\n",
        "    if start_idx is not None and end_idx is not None:\n",
        "        filtered_df = df.iloc[:, :1]  # Include the 'BPID' column\n",
        "        filtered_df = pd.concat([filtered_df, df.iloc[:, start_idx:end_idx]], axis=1)\n",
        "    else:\n",
        "        raise ValueError(\"Invalid start or end month. Please check the month-year format.\")\n",
        "\n",
        "    return filtered_df\n",
        "\n",
        "# Example usage:\n",
        "start_month = '05.2023'  # Specify the start month (MM.YYYY format)\n",
        "end_month = '03.2023'    # Specify the end month (MM.YYYY format)\n",
        "\n",
        "# Filter the combined dataframe based on the given period\n",
        "filtered_combined_df = filter_columns_by_period(combined_df, start_month, end_month)"
      ],
      "metadata": {
        "id": "YkFrU3dkSHD8"
      },
      "execution_count": 31,
      "outputs": []
    },
    {
      "cell_type": "code",
      "source": [
        "# Function to filter columns based on start and end months\n",
        "def filter_columns_by_period(df, start_month, end_month):\n",
        "    # Get the list of columns\n",
        "    columns = df.columns.tolist()\n",
        "\n",
        "    # Find all columns matching the start and end months\n",
        "    start_idx = None\n",
        "    end_idx = None\n",
        "\n",
        "    for i, col in enumerate(columns):\n",
        "        # Check for the first full set of columns that start with start_month\n",
        "        if start_month in col and 'PurchVolume' in col:\n",
        "            start_idx = i\n",
        "        # Check for the last full set of columns that include the end_month\n",
        "        if end_month in col and 'PMIStarRate' in col:\n",
        "            end_idx = i + 1  # Add 1 to include the end month columns in the slice\n",
        "\n",
        "    # Slice the dataframe columns within the start and end index\n",
        "    if start_idx is not None and end_idx is not None:\n",
        "        filtered_df = df.iloc[:, :1]  # Include the 'BPID' column\n",
        "        filtered_df = pd.concat([filtered_df, df.iloc[:, start_idx:end_idx]], axis=1)\n",
        "    else:\n",
        "        raise ValueError(\"Invalid start or end month. Please check the month-year format.\")\n",
        "\n",
        "    return filtered_df\n",
        "\n",
        "# Example usage:\n",
        "start_month = '05.2023'  # Specify the start month (MM.YYYY format)\n",
        "end_month = '03.2024'    # Specify the end month (MM.YYYY format)\n",
        "\n",
        "# Filter the combined dataframe based on the given period\n",
        "filtered_combined_df = filter_columns_by_period(combined_df, start_month, end_month)"
      ],
      "metadata": {
        "id": "vuky3OL5Vtyd"
      },
      "execution_count": 33,
      "outputs": []
    },
    {
      "cell_type": "code",
      "source": [
        "# Example usage:\n",
        "start_month = '11.2023'  # Specify the start month (MM.YYYY format)\n",
        "end_month = '03.2024'    # Specify the end month (MM.YYYY format)\n",
        "\n",
        "# Filter the combined dataframe based on the given period\n",
        "filtered_combined_df = filter_columns_by_period(combined_df, start_month, end_month)"
      ],
      "metadata": {
        "id": "UXOLvae1WEQY"
      },
      "execution_count": 40,
      "outputs": []
    },
    {
      "cell_type": "code",
      "source": [
        "filtered_combined_df.shape"
      ],
      "metadata": {
        "id": "E_F3S0K3SqFk",
        "outputId": "9e1da0ad-039d-41d1-fd95-92a769825e55",
        "colab": {
          "base_uri": "https://localhost:8080/"
        }
      },
      "execution_count": 41,
      "outputs": [
        {
          "output_type": "execute_result",
          "data": {
            "text/plain": [
              "(2, 31)"
            ]
          },
          "metadata": {},
          "execution_count": 41
        }
      ]
    },
    {
      "cell_type": "code",
      "source": [
        "filtered_combined_df.columns"
      ],
      "metadata": {
        "id": "tlHMxoAvV1wu",
        "outputId": "16faedde-4522-4ae4-d9bc-1cf6e8d82e77",
        "colab": {
          "base_uri": "https://localhost:8080/"
        }
      },
      "execution_count": 42,
      "outputs": [
        {
          "output_type": "execute_result",
          "data": {
            "text/plain": [
              "Index(['BPID', 'PurchVolume 11.2023', 'Revenue 11.2023', 'PMI 11.2023',\n",
              "       'PMIRate 11.2023', 'PMIStar 11.2023', 'PMIStarRate 11.2023',\n",
              "       'PurchVolume 12.2023', 'Revenue 12.2023', 'PMI 12.2023',\n",
              "       'PMIRate 12.2023', 'PMIStar 12.2023', 'PMIStarRate 12.2023',\n",
              "       'PurchVolume 01.2024', 'Revenue 01.2024', 'PMI 01.2024',\n",
              "       'PMIRate 01.2024', 'PMIStar 01.2024', 'PMIStarRate 01.2024',\n",
              "       'PurchVolume 02.2024', 'Revenue 02.2024', 'PMI 02.2024',\n",
              "       'PMIRate 02.2024', 'PMIStar 02.2024', 'PMIStarRate 02.2024',\n",
              "       'PurchVolume 03.2024', 'Revenue 03.2024', 'PMI 03.2024',\n",
              "       'PMIRate 03.2024', 'PMIStar 03.2024', 'PMIStarRate 03.2024'],\n",
              "      dtype='object')"
            ]
          },
          "metadata": {},
          "execution_count": 42
        }
      ]
    },
    {
      "cell_type": "code",
      "source": [
        "# prompt: download filtered_combined_df as an excel file\n",
        "\n",
        "# Assuming 'filtered_combined_df' is your DataFrame\n",
        "!pip install openpyxl\n",
        "import pandas as pd\n",
        "from google.colab import files\n",
        "\n",
        "# Save the DataFrame to an Excel file first\n",
        "filtered_combined_df.to_excel('filtered_combined_df.xlsx', index=False)  # Save DataFrame to Excel file\n",
        "\n",
        "# Download the Excel file\n",
        "files.download('filtered_combined_df.xlsx')"
      ],
      "metadata": {
        "id": "4QUWTDWfWf-u",
        "outputId": "33e5508c-1744-47bc-86ae-48faed4a6393",
        "colab": {
          "base_uri": "https://localhost:8080/",
          "height": 72
        }
      },
      "execution_count": 45,
      "outputs": [
        {
          "output_type": "stream",
          "name": "stdout",
          "text": [
            "Requirement already satisfied: openpyxl in /usr/local/lib/python3.10/dist-packages (3.1.5)\n",
            "Requirement already satisfied: et-xmlfile in /usr/local/lib/python3.10/dist-packages (from openpyxl) (1.1.0)\n"
          ]
        },
        {
          "output_type": "display_data",
          "data": {
            "text/plain": [
              "<IPython.core.display.Javascript object>"
            ],
            "application/javascript": [
              "\n",
              "    async function download(id, filename, size) {\n",
              "      if (!google.colab.kernel.accessAllowed) {\n",
              "        return;\n",
              "      }\n",
              "      const div = document.createElement('div');\n",
              "      const label = document.createElement('label');\n",
              "      label.textContent = `Downloading \"${filename}\": `;\n",
              "      div.appendChild(label);\n",
              "      const progress = document.createElement('progress');\n",
              "      progress.max = size;\n",
              "      div.appendChild(progress);\n",
              "      document.body.appendChild(div);\n",
              "\n",
              "      const buffers = [];\n",
              "      let downloaded = 0;\n",
              "\n",
              "      const channel = await google.colab.kernel.comms.open(id);\n",
              "      // Send a message to notify the kernel that we're ready.\n",
              "      channel.send({})\n",
              "\n",
              "      for await (const message of channel.messages) {\n",
              "        // Send a message to notify the kernel that we're ready.\n",
              "        channel.send({})\n",
              "        if (message.buffers) {\n",
              "          for (const buffer of message.buffers) {\n",
              "            buffers.push(buffer);\n",
              "            downloaded += buffer.byteLength;\n",
              "            progress.value = downloaded;\n",
              "          }\n",
              "        }\n",
              "      }\n",
              "      const blob = new Blob(buffers, {type: 'application/binary'});\n",
              "      const a = document.createElement('a');\n",
              "      a.href = window.URL.createObjectURL(blob);\n",
              "      a.download = filename;\n",
              "      div.appendChild(a);\n",
              "      a.click();\n",
              "      div.remove();\n",
              "    }\n",
              "  "
            ]
          },
          "metadata": {}
        },
        {
          "output_type": "display_data",
          "data": {
            "text/plain": [
              "<IPython.core.display.Javascript object>"
            ],
            "application/javascript": [
              "download(\"download_e4211614-66ef-4a59-9229-bb882b51dc14\", \"filtered_combined_df.xlsx\", 5505)"
            ]
          },
          "metadata": {}
        }
      ]
    },
    {
      "cell_type": "code",
      "source": [
        "# Loop through each month-year pair to apply the formula\n",
        "for col in filtered_combined_df.columns:\n",
        "    if 'PMIStarRate' in col:\n",
        "        # Extract the corresponding PurchVolume column for the same month-year\n",
        "        month_year = col.split(' ')[1]  # Get the \"MM.YYYY\" part from the column name\n",
        "        purch_col = f'PurchVolume {month_year}'\n",
        "\n",
        "        # Check if the corresponding PurchVolume column exists\n",
        "        if purch_col in filtered_combined_df.columns:\n",
        "            # Apply the formula to adjust PMIStarRate based on the corresponding PurchVolume\n",
        "            filtered_combined_df[col] = filtered_combined_df[col] - (0.0018 * filtered_combined_df[purch_col])\n",
        "\n",
        "# Display the updated dataframe\n",
        "print(filtered_combined_df.head())\n"
      ],
      "metadata": {
        "id": "iHupdc4wZ3q7",
        "outputId": "b010ecbe-570d-4bee-e992-acea985218f7",
        "colab": {
          "base_uri": "https://localhost:8080/"
        }
      },
      "execution_count": 46,
      "outputs": [
        {
          "output_type": "stream",
          "name": "stdout",
          "text": [
            "         BPID  PurchVolume 11.2023  Revenue 11.2023  PMI 11.2023  \\\n",
            "5  A987654321                 65.0             34.0         34.0   \n",
            "8  A123456789                543.0            725.0        643.0   \n",
            "\n",
            "   PMIRate 11.2023  PMIStar 11.2023  PMIStarRate 11.2023  PurchVolume 12.2023  \\\n",
            "5           9.8384             45.0               1.9160                 65.0   \n",
            "8          15.7322            542.0               1.5416                543.0   \n",
            "\n",
            "   Revenue 12.2023  PMI 12.2023  ...  PMI 02.2024  PMIRate 02.2024  \\\n",
            "5             34.0         34.0  ...          2.0             0.14   \n",
            "8            725.0        643.0  ...         32.0             0.20   \n",
            "\n",
            "   PMIStar 02.2024  PMIStarRate 02.2024  PurchVolume 03.2024  Revenue 03.2024  \\\n",
            "5            546.0            -4.053677                 65.0             34.0   \n",
            "8             65.0             3.303400                543.0            725.0   \n",
            "\n",
            "   PMI 03.2024  PMIRate 03.2024  PMIStar 03.2024  PMIStarRate 03.2024  \n",
            "5         34.0           9.8384             45.0               1.9160  \n",
            "8        643.0          15.7322            542.0               1.5416  \n",
            "\n",
            "[2 rows x 31 columns]\n"
          ]
        }
      ]
    },
    {
      "cell_type": "code",
      "source": [
        "filtered_combined_df"
      ],
      "metadata": {
        "id": "reDTLZxscNdk",
        "outputId": "bef6c84d-f238-411c-df85-e30b3dbac219",
        "colab": {
          "base_uri": "https://localhost:8080/",
          "height": 178
        }
      },
      "execution_count": 47,
      "outputs": [
        {
          "output_type": "execute_result",
          "data": {
            "text/plain": [
              "         BPID  PurchVolume 11.2023  Revenue 11.2023  PMI 11.2023  \\\n",
              "5  A987654321                 65.0             34.0         34.0   \n",
              "8  A123456789                543.0            725.0        643.0   \n",
              "\n",
              "   PMIRate 11.2023  PMIStar 11.2023  PMIStarRate 11.2023  PurchVolume 12.2023  \\\n",
              "5           9.8384             45.0               1.9160                 65.0   \n",
              "8          15.7322            542.0               1.5416                543.0   \n",
              "\n",
              "   Revenue 12.2023  PMI 12.2023  ...  PMI 02.2024  PMIRate 02.2024  \\\n",
              "5             34.0         34.0  ...          2.0             0.14   \n",
              "8            725.0        643.0  ...         32.0             0.20   \n",
              "\n",
              "   PMIStar 02.2024  PMIStarRate 02.2024  PurchVolume 03.2024  Revenue 03.2024  \\\n",
              "5            546.0            -4.053677                 65.0             34.0   \n",
              "8             65.0             3.303400                543.0            725.0   \n",
              "\n",
              "   PMI 03.2024  PMIRate 03.2024  PMIStar 03.2024  PMIStarRate 03.2024  \n",
              "5         34.0           9.8384             45.0               1.9160  \n",
              "8        643.0          15.7322            542.0               1.5416  \n",
              "\n",
              "[2 rows x 31 columns]"
            ],
            "text/html": [
              "\n",
              "  <div id=\"df-ae62bed2-a801-459c-8fb0-2e57e2e219a9\" class=\"colab-df-container\">\n",
              "    <div>\n",
              "<style scoped>\n",
              "    .dataframe tbody tr th:only-of-type {\n",
              "        vertical-align: middle;\n",
              "    }\n",
              "\n",
              "    .dataframe tbody tr th {\n",
              "        vertical-align: top;\n",
              "    }\n",
              "\n",
              "    .dataframe thead th {\n",
              "        text-align: right;\n",
              "    }\n",
              "</style>\n",
              "<table border=\"1\" class=\"dataframe\">\n",
              "  <thead>\n",
              "    <tr style=\"text-align: right;\">\n",
              "      <th></th>\n",
              "      <th>BPID</th>\n",
              "      <th>PurchVolume 11.2023</th>\n",
              "      <th>Revenue 11.2023</th>\n",
              "      <th>PMI 11.2023</th>\n",
              "      <th>PMIRate 11.2023</th>\n",
              "      <th>PMIStar 11.2023</th>\n",
              "      <th>PMIStarRate 11.2023</th>\n",
              "      <th>PurchVolume 12.2023</th>\n",
              "      <th>Revenue 12.2023</th>\n",
              "      <th>PMI 12.2023</th>\n",
              "      <th>...</th>\n",
              "      <th>PMI 02.2024</th>\n",
              "      <th>PMIRate 02.2024</th>\n",
              "      <th>PMIStar 02.2024</th>\n",
              "      <th>PMIStarRate 02.2024</th>\n",
              "      <th>PurchVolume 03.2024</th>\n",
              "      <th>Revenue 03.2024</th>\n",
              "      <th>PMI 03.2024</th>\n",
              "      <th>PMIRate 03.2024</th>\n",
              "      <th>PMIStar 03.2024</th>\n",
              "      <th>PMIStarRate 03.2024</th>\n",
              "    </tr>\n",
              "  </thead>\n",
              "  <tbody>\n",
              "    <tr>\n",
              "      <th>5</th>\n",
              "      <td>A987654321</td>\n",
              "      <td>65.0</td>\n",
              "      <td>34.0</td>\n",
              "      <td>34.0</td>\n",
              "      <td>9.8384</td>\n",
              "      <td>45.0</td>\n",
              "      <td>1.9160</td>\n",
              "      <td>65.0</td>\n",
              "      <td>34.0</td>\n",
              "      <td>34.0</td>\n",
              "      <td>...</td>\n",
              "      <td>2.0</td>\n",
              "      <td>0.14</td>\n",
              "      <td>546.0</td>\n",
              "      <td>-4.053677</td>\n",
              "      <td>65.0</td>\n",
              "      <td>34.0</td>\n",
              "      <td>34.0</td>\n",
              "      <td>9.8384</td>\n",
              "      <td>45.0</td>\n",
              "      <td>1.9160</td>\n",
              "    </tr>\n",
              "    <tr>\n",
              "      <th>8</th>\n",
              "      <td>A123456789</td>\n",
              "      <td>543.0</td>\n",
              "      <td>725.0</td>\n",
              "      <td>643.0</td>\n",
              "      <td>15.7322</td>\n",
              "      <td>542.0</td>\n",
              "      <td>1.5416</td>\n",
              "      <td>543.0</td>\n",
              "      <td>725.0</td>\n",
              "      <td>643.0</td>\n",
              "      <td>...</td>\n",
              "      <td>32.0</td>\n",
              "      <td>0.20</td>\n",
              "      <td>65.0</td>\n",
              "      <td>3.303400</td>\n",
              "      <td>543.0</td>\n",
              "      <td>725.0</td>\n",
              "      <td>643.0</td>\n",
              "      <td>15.7322</td>\n",
              "      <td>542.0</td>\n",
              "      <td>1.5416</td>\n",
              "    </tr>\n",
              "  </tbody>\n",
              "</table>\n",
              "<p>2 rows × 31 columns</p>\n",
              "</div>\n",
              "    <div class=\"colab-df-buttons\">\n",
              "\n",
              "  <div class=\"colab-df-container\">\n",
              "    <button class=\"colab-df-convert\" onclick=\"convertToInteractive('df-ae62bed2-a801-459c-8fb0-2e57e2e219a9')\"\n",
              "            title=\"Convert this dataframe to an interactive table.\"\n",
              "            style=\"display:none;\">\n",
              "\n",
              "  <svg xmlns=\"http://www.w3.org/2000/svg\" height=\"24px\" viewBox=\"0 -960 960 960\">\n",
              "    <path d=\"M120-120v-720h720v720H120Zm60-500h600v-160H180v160Zm220 220h160v-160H400v160Zm0 220h160v-160H400v160ZM180-400h160v-160H180v160Zm440 0h160v-160H620v160ZM180-180h160v-160H180v160Zm440 0h160v-160H620v160Z\"/>\n",
              "  </svg>\n",
              "    </button>\n",
              "\n",
              "  <style>\n",
              "    .colab-df-container {\n",
              "      display:flex;\n",
              "      gap: 12px;\n",
              "    }\n",
              "\n",
              "    .colab-df-convert {\n",
              "      background-color: #E8F0FE;\n",
              "      border: none;\n",
              "      border-radius: 50%;\n",
              "      cursor: pointer;\n",
              "      display: none;\n",
              "      fill: #1967D2;\n",
              "      height: 32px;\n",
              "      padding: 0 0 0 0;\n",
              "      width: 32px;\n",
              "    }\n",
              "\n",
              "    .colab-df-convert:hover {\n",
              "      background-color: #E2EBFA;\n",
              "      box-shadow: 0px 1px 2px rgba(60, 64, 67, 0.3), 0px 1px 3px 1px rgba(60, 64, 67, 0.15);\n",
              "      fill: #174EA6;\n",
              "    }\n",
              "\n",
              "    .colab-df-buttons div {\n",
              "      margin-bottom: 4px;\n",
              "    }\n",
              "\n",
              "    [theme=dark] .colab-df-convert {\n",
              "      background-color: #3B4455;\n",
              "      fill: #D2E3FC;\n",
              "    }\n",
              "\n",
              "    [theme=dark] .colab-df-convert:hover {\n",
              "      background-color: #434B5C;\n",
              "      box-shadow: 0px 1px 3px 1px rgba(0, 0, 0, 0.15);\n",
              "      filter: drop-shadow(0px 1px 2px rgba(0, 0, 0, 0.3));\n",
              "      fill: #FFFFFF;\n",
              "    }\n",
              "  </style>\n",
              "\n",
              "    <script>\n",
              "      const buttonEl =\n",
              "        document.querySelector('#df-ae62bed2-a801-459c-8fb0-2e57e2e219a9 button.colab-df-convert');\n",
              "      buttonEl.style.display =\n",
              "        google.colab.kernel.accessAllowed ? 'block' : 'none';\n",
              "\n",
              "      async function convertToInteractive(key) {\n",
              "        const element = document.querySelector('#df-ae62bed2-a801-459c-8fb0-2e57e2e219a9');\n",
              "        const dataTable =\n",
              "          await google.colab.kernel.invokeFunction('convertToInteractive',\n",
              "                                                    [key], {});\n",
              "        if (!dataTable) return;\n",
              "\n",
              "        const docLinkHtml = 'Like what you see? Visit the ' +\n",
              "          '<a target=\"_blank\" href=https://colab.research.google.com/notebooks/data_table.ipynb>data table notebook</a>'\n",
              "          + ' to learn more about interactive tables.';\n",
              "        element.innerHTML = '';\n",
              "        dataTable['output_type'] = 'display_data';\n",
              "        await google.colab.output.renderOutput(dataTable, element);\n",
              "        const docLink = document.createElement('div');\n",
              "        docLink.innerHTML = docLinkHtml;\n",
              "        element.appendChild(docLink);\n",
              "      }\n",
              "    </script>\n",
              "  </div>\n",
              "\n",
              "\n",
              "<div id=\"df-e1b072e2-1e2d-4e84-99ba-0db44555020c\">\n",
              "  <button class=\"colab-df-quickchart\" onclick=\"quickchart('df-e1b072e2-1e2d-4e84-99ba-0db44555020c')\"\n",
              "            title=\"Suggest charts\"\n",
              "            style=\"display:none;\">\n",
              "\n",
              "<svg xmlns=\"http://www.w3.org/2000/svg\" height=\"24px\"viewBox=\"0 0 24 24\"\n",
              "     width=\"24px\">\n",
              "    <g>\n",
              "        <path d=\"M19 3H5c-1.1 0-2 .9-2 2v14c0 1.1.9 2 2 2h14c1.1 0 2-.9 2-2V5c0-1.1-.9-2-2-2zM9 17H7v-7h2v7zm4 0h-2V7h2v10zm4 0h-2v-4h2v4z\"/>\n",
              "    </g>\n",
              "</svg>\n",
              "  </button>\n",
              "\n",
              "<style>\n",
              "  .colab-df-quickchart {\n",
              "      --bg-color: #E8F0FE;\n",
              "      --fill-color: #1967D2;\n",
              "      --hover-bg-color: #E2EBFA;\n",
              "      --hover-fill-color: #174EA6;\n",
              "      --disabled-fill-color: #AAA;\n",
              "      --disabled-bg-color: #DDD;\n",
              "  }\n",
              "\n",
              "  [theme=dark] .colab-df-quickchart {\n",
              "      --bg-color: #3B4455;\n",
              "      --fill-color: #D2E3FC;\n",
              "      --hover-bg-color: #434B5C;\n",
              "      --hover-fill-color: #FFFFFF;\n",
              "      --disabled-bg-color: #3B4455;\n",
              "      --disabled-fill-color: #666;\n",
              "  }\n",
              "\n",
              "  .colab-df-quickchart {\n",
              "    background-color: var(--bg-color);\n",
              "    border: none;\n",
              "    border-radius: 50%;\n",
              "    cursor: pointer;\n",
              "    display: none;\n",
              "    fill: var(--fill-color);\n",
              "    height: 32px;\n",
              "    padding: 0;\n",
              "    width: 32px;\n",
              "  }\n",
              "\n",
              "  .colab-df-quickchart:hover {\n",
              "    background-color: var(--hover-bg-color);\n",
              "    box-shadow: 0 1px 2px rgba(60, 64, 67, 0.3), 0 1px 3px 1px rgba(60, 64, 67, 0.15);\n",
              "    fill: var(--button-hover-fill-color);\n",
              "  }\n",
              "\n",
              "  .colab-df-quickchart-complete:disabled,\n",
              "  .colab-df-quickchart-complete:disabled:hover {\n",
              "    background-color: var(--disabled-bg-color);\n",
              "    fill: var(--disabled-fill-color);\n",
              "    box-shadow: none;\n",
              "  }\n",
              "\n",
              "  .colab-df-spinner {\n",
              "    border: 2px solid var(--fill-color);\n",
              "    border-color: transparent;\n",
              "    border-bottom-color: var(--fill-color);\n",
              "    animation:\n",
              "      spin 1s steps(1) infinite;\n",
              "  }\n",
              "\n",
              "  @keyframes spin {\n",
              "    0% {\n",
              "      border-color: transparent;\n",
              "      border-bottom-color: var(--fill-color);\n",
              "      border-left-color: var(--fill-color);\n",
              "    }\n",
              "    20% {\n",
              "      border-color: transparent;\n",
              "      border-left-color: var(--fill-color);\n",
              "      border-top-color: var(--fill-color);\n",
              "    }\n",
              "    30% {\n",
              "      border-color: transparent;\n",
              "      border-left-color: var(--fill-color);\n",
              "      border-top-color: var(--fill-color);\n",
              "      border-right-color: var(--fill-color);\n",
              "    }\n",
              "    40% {\n",
              "      border-color: transparent;\n",
              "      border-right-color: var(--fill-color);\n",
              "      border-top-color: var(--fill-color);\n",
              "    }\n",
              "    60% {\n",
              "      border-color: transparent;\n",
              "      border-right-color: var(--fill-color);\n",
              "    }\n",
              "    80% {\n",
              "      border-color: transparent;\n",
              "      border-right-color: var(--fill-color);\n",
              "      border-bottom-color: var(--fill-color);\n",
              "    }\n",
              "    90% {\n",
              "      border-color: transparent;\n",
              "      border-bottom-color: var(--fill-color);\n",
              "    }\n",
              "  }\n",
              "</style>\n",
              "\n",
              "  <script>\n",
              "    async function quickchart(key) {\n",
              "      const quickchartButtonEl =\n",
              "        document.querySelector('#' + key + ' button');\n",
              "      quickchartButtonEl.disabled = true;  // To prevent multiple clicks.\n",
              "      quickchartButtonEl.classList.add('colab-df-spinner');\n",
              "      try {\n",
              "        const charts = await google.colab.kernel.invokeFunction(\n",
              "            'suggestCharts', [key], {});\n",
              "      } catch (error) {\n",
              "        console.error('Error during call to suggestCharts:', error);\n",
              "      }\n",
              "      quickchartButtonEl.classList.remove('colab-df-spinner');\n",
              "      quickchartButtonEl.classList.add('colab-df-quickchart-complete');\n",
              "    }\n",
              "    (() => {\n",
              "      let quickchartButtonEl =\n",
              "        document.querySelector('#df-e1b072e2-1e2d-4e84-99ba-0db44555020c button');\n",
              "      quickchartButtonEl.style.display =\n",
              "        google.colab.kernel.accessAllowed ? 'block' : 'none';\n",
              "    })();\n",
              "  </script>\n",
              "</div>\n",
              "\n",
              "  <div id=\"id_4075ffc9-d77f-4be0-bfef-a4a647af7c21\">\n",
              "    <style>\n",
              "      .colab-df-generate {\n",
              "        background-color: #E8F0FE;\n",
              "        border: none;\n",
              "        border-radius: 50%;\n",
              "        cursor: pointer;\n",
              "        display: none;\n",
              "        fill: #1967D2;\n",
              "        height: 32px;\n",
              "        padding: 0 0 0 0;\n",
              "        width: 32px;\n",
              "      }\n",
              "\n",
              "      .colab-df-generate:hover {\n",
              "        background-color: #E2EBFA;\n",
              "        box-shadow: 0px 1px 2px rgba(60, 64, 67, 0.3), 0px 1px 3px 1px rgba(60, 64, 67, 0.15);\n",
              "        fill: #174EA6;\n",
              "      }\n",
              "\n",
              "      [theme=dark] .colab-df-generate {\n",
              "        background-color: #3B4455;\n",
              "        fill: #D2E3FC;\n",
              "      }\n",
              "\n",
              "      [theme=dark] .colab-df-generate:hover {\n",
              "        background-color: #434B5C;\n",
              "        box-shadow: 0px 1px 3px 1px rgba(0, 0, 0, 0.15);\n",
              "        filter: drop-shadow(0px 1px 2px rgba(0, 0, 0, 0.3));\n",
              "        fill: #FFFFFF;\n",
              "      }\n",
              "    </style>\n",
              "    <button class=\"colab-df-generate\" onclick=\"generateWithVariable('filtered_combined_df')\"\n",
              "            title=\"Generate code using this dataframe.\"\n",
              "            style=\"display:none;\">\n",
              "\n",
              "  <svg xmlns=\"http://www.w3.org/2000/svg\" height=\"24px\"viewBox=\"0 0 24 24\"\n",
              "       width=\"24px\">\n",
              "    <path d=\"M7,19H8.4L18.45,9,17,7.55,7,17.6ZM5,21V16.75L18.45,3.32a2,2,0,0,1,2.83,0l1.4,1.43a1.91,1.91,0,0,1,.58,1.4,1.91,1.91,0,0,1-.58,1.4L9.25,21ZM18.45,9,17,7.55Zm-12,3A5.31,5.31,0,0,0,4.9,8.1,5.31,5.31,0,0,0,1,6.5,5.31,5.31,0,0,0,4.9,4.9,5.31,5.31,0,0,0,6.5,1,5.31,5.31,0,0,0,8.1,4.9,5.31,5.31,0,0,0,12,6.5,5.46,5.46,0,0,0,6.5,12Z\"/>\n",
              "  </svg>\n",
              "    </button>\n",
              "    <script>\n",
              "      (() => {\n",
              "      const buttonEl =\n",
              "        document.querySelector('#id_4075ffc9-d77f-4be0-bfef-a4a647af7c21 button.colab-df-generate');\n",
              "      buttonEl.style.display =\n",
              "        google.colab.kernel.accessAllowed ? 'block' : 'none';\n",
              "\n",
              "      buttonEl.onclick = () => {\n",
              "        google.colab.notebook.generateWithVariable('filtered_combined_df');\n",
              "      }\n",
              "      })();\n",
              "    </script>\n",
              "  </div>\n",
              "\n",
              "    </div>\n",
              "  </div>\n"
            ],
            "application/vnd.google.colaboratory.intrinsic+json": {
              "type": "dataframe",
              "variable_name": "filtered_combined_df"
            }
          },
          "metadata": {},
          "execution_count": 47
        }
      ]
    },
    {
      "cell_type": "code",
      "source": [
        "# Create a list to store the new column names and final DataFrame\n",
        "new_columns = []\n",
        "new_df = pd.DataFrame(filtered_combined_df.iloc[:, 0])  # Keep the first column (BPID) as is\n",
        "\n",
        "# Counter to track insertion of new blank columns\n",
        "counter = 0\n",
        "\n",
        "# Loop through the columns of filtered_combined_df starting from the second column\n",
        "for i in range(1, len(filtered_combined_df.columns)):\n",
        "    new_df[filtered_combined_df.columns[i]] = filtered_combined_df.iloc[:, i]  # Add the column to new_df\n",
        "    counter += 1\n",
        "\n",
        "    # After every 6 columns, add a new blank column for readability\n",
        "    if counter % 6 == 0:\n",
        "        new_column_name = f'Spacer_{i // 6}'  # Create a name for the new blank column\n",
        "        new_df[new_column_name] = \"\"  # Add a blank column\n",
        "        counter = 0  # Reset the counter after adding the blank column\n",
        "\n",
        "# Display the updated dataframe with added blank columns\n",
        "print(new_df.head())\n"
      ],
      "metadata": {
        "id": "y3uoRGcWf2-2",
        "outputId": "4452c597-829f-4047-ded7-76d38214fb47",
        "colab": {
          "base_uri": "https://localhost:8080/"
        }
      },
      "execution_count": 55,
      "outputs": [
        {
          "output_type": "stream",
          "name": "stdout",
          "text": [
            "         BPID  PurchVolume 11.2023  Revenue 11.2023  PMI 11.2023  \\\n",
            "5  A987654321                 65.0             34.0         34.0   \n",
            "8  A123456789                543.0            725.0        643.0   \n",
            "\n",
            "   PMIRate 11.2023  PMIStar 11.2023  PMIStarRate 11.2023 Spacer_1  \\\n",
            "5           9.8384             45.0               1.9160            \n",
            "8          15.7322            542.0               1.5416            \n",
            "\n",
            "   PurchVolume 12.2023  Revenue 12.2023  ...  PMIStar 02.2024  \\\n",
            "5                 65.0             34.0  ...            546.0   \n",
            "8                543.0            725.0  ...             65.0   \n",
            "\n",
            "   PMIStarRate 02.2024  Spacer_4  PurchVolume 03.2024 Revenue 03.2024  \\\n",
            "5            -4.053677                           65.0            34.0   \n",
            "8             3.303400                          543.0           725.0   \n",
            "\n",
            "   PMI 03.2024  PMIRate 03.2024  PMIStar 03.2024  PMIStarRate 03.2024  \\\n",
            "5         34.0           9.8384             45.0               1.9160   \n",
            "8        643.0          15.7322            542.0               1.5416   \n",
            "\n",
            "   Spacer_5  \n",
            "5            \n",
            "8            \n",
            "\n",
            "[2 rows x 36 columns]\n"
          ]
        }
      ]
    },
    {
      "cell_type": "code",
      "source": [
        "from google.colab import files\n",
        "\n",
        "# Save the DataFrame to an Excel file first\n",
        "new_df.to_excel('filtered_combined_df.xlsx', index=False)  # Save DataFrame to Excel file\n",
        "\n",
        "# Download the Excel file\n",
        "files.download('filtered_combined_df.xlsx')"
      ],
      "metadata": {
        "id": "coSGnZ_OclHY",
        "outputId": "e9ef459a-6cc3-424d-a551-ab499e008312",
        "colab": {
          "base_uri": "https://localhost:8080/",
          "height": 17
        }
      },
      "execution_count": 56,
      "outputs": [
        {
          "output_type": "display_data",
          "data": {
            "text/plain": [
              "<IPython.core.display.Javascript object>"
            ],
            "application/javascript": [
              "\n",
              "    async function download(id, filename, size) {\n",
              "      if (!google.colab.kernel.accessAllowed) {\n",
              "        return;\n",
              "      }\n",
              "      const div = document.createElement('div');\n",
              "      const label = document.createElement('label');\n",
              "      label.textContent = `Downloading \"${filename}\": `;\n",
              "      div.appendChild(label);\n",
              "      const progress = document.createElement('progress');\n",
              "      progress.max = size;\n",
              "      div.appendChild(progress);\n",
              "      document.body.appendChild(div);\n",
              "\n",
              "      const buffers = [];\n",
              "      let downloaded = 0;\n",
              "\n",
              "      const channel = await google.colab.kernel.comms.open(id);\n",
              "      // Send a message to notify the kernel that we're ready.\n",
              "      channel.send({})\n",
              "\n",
              "      for await (const message of channel.messages) {\n",
              "        // Send a message to notify the kernel that we're ready.\n",
              "        channel.send({})\n",
              "        if (message.buffers) {\n",
              "          for (const buffer of message.buffers) {\n",
              "            buffers.push(buffer);\n",
              "            downloaded += buffer.byteLength;\n",
              "            progress.value = downloaded;\n",
              "          }\n",
              "        }\n",
              "      }\n",
              "      const blob = new Blob(buffers, {type: 'application/binary'});\n",
              "      const a = document.createElement('a');\n",
              "      a.href = window.URL.createObjectURL(blob);\n",
              "      a.download = filename;\n",
              "      div.appendChild(a);\n",
              "      a.click();\n",
              "      div.remove();\n",
              "    }\n",
              "  "
            ]
          },
          "metadata": {}
        },
        {
          "output_type": "display_data",
          "data": {
            "text/plain": [
              "<IPython.core.display.Javascript object>"
            ],
            "application/javascript": [
              "download(\"download_9adcefc6-e18b-468a-b94b-f7eeea964243\", \"filtered_combined_df.xlsx\", 5602)"
            ]
          },
          "metadata": {}
        }
      ]
    },
    {
      "cell_type": "code",
      "source": [
        "# Get the current and previous year dynamically\n",
        "current_year = datetime.now().year\n",
        "previous_year = current_year - 1\n",
        "\n",
        "# Define input folder and output folder paths\n",
        "input_folder_path = 'path_to_your_input/'\n",
        "output_folder_path = 'path_to_output_folder/'\n",
        "\n",
        "# Assign file paths dynamically\n",
        "current_year_file_path = os.path.join(input_folder_path, f'{current_year}_sample_data.xlsx')\n",
        "previous_year_file_path = os.path.join(input_folder_path, f'{previous_year}_sample_data.xlsx')\n",
        "\n",
        "# Saving aggregated data for the current year\n",
        "aggregated_df1.to_excel(os.path.join(output_folder_path, f'{current_year}_aggregated.xlsx'), index=False)\n",
        "\n",
        "# Saving aggregated data for the previous year\n",
        "aggregated_df2.to_excel(os.path.join(output_folder_path, f'{previous_year}_aggregated.xlsx'), index=False)\n"
      ],
      "metadata": {
        "id": "2WYsHemNOkzy"
      },
      "execution_count": null,
      "outputs": []
    }
  ],
  "metadata": {
    "colab": {
      "name": "Welcome to Colaboratory",
      "toc_visible": true,
      "provenance": [],
      "include_colab_link": true
    },
    "kernelspec": {
      "display_name": "Python 3",
      "name": "python3"
    }
  },
  "nbformat": 4,
  "nbformat_minor": 0
}